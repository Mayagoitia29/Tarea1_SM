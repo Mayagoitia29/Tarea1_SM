{
 "cells": [
  {
   "cell_type": "markdown",
   "metadata": {},
   "source": [
    "# Presentación personal\n",
    "\n",
    "Me llamo José Alberto Mayagoitia Gutiérrez, soy de Guadalajara Jalisco, México, tengo 18 años y estudio el 3er semestre de ingeniería financiera en la Universidad del ITESO.\n",
    "La razón por la cual decidí estudiar esta carrera es debido a mi gran pasión por las inversiones, desde chico me ha gustado ver películas o series de negocios sobre como hacer tratos, como manejar las empresas, y como si llegas a realizar buenas inversiones puedes llegar a ganar mucho dinero.\n",
    "También me apasiona mucho la bolsa de valores, la compra y venta de acciones, así como distintos acuerdos o formas diferentes de invertir el dinero, desde el mercado de divisas hasta los bienes raíces.\n",
    "Me encanta el futbol, es una de las cosas de las cuales nunca me podría aburrir, desde niño juego y veo partidos de futbol, es algo que disfrute bastante durante toda mi infancia, y algo que hasta la fecha sigo disfrutando.\n",
    "Soy una persona muy social, disfruto mucho pasar el tiempo con amigos, con mi familia y con mi novia.\n",
    "Me considero una persona muy dedicada y que sabe lo que quiere, siempre trato de dar lo mejor de mi sea cual sea la situación.\n",
    "En este tiempo que llevo estudiando en ITESO me he sentido muy feliz, me gusta mucho la universidad ya que nos ofrecen muchas cosas, desde el poder hacer tu horario, escoger a los profesores con los cuales quieres llevar la materia, un gran servicio de atención, así como bastantes actividades extracurriculares.\n",
    "La razón por la cual decidí estudiar en el ITESO es debido a su gran nivel de enseñanza, además que es una de las pocas universidades que hasta ahora cuenta con la carrera de ingeniería financiera.\n",
    "Quiero seguir creciendo como persona, quiero cumplir mis metas y sueños, poder lograr todo lo que quiero en esta vida.\n"
   ]
  },
  {
   "cell_type": "markdown",
   "metadata": {},
   "source": []
  },
  {
   "cell_type": "markdown",
   "metadata": {},
   "source": [
    "# Python ha llevado la programación de computadoras a una nueva gran audiencia.\n",
    "Todo inicia gracias a Guido Van Rossum, el cual es un científico informático holandés, el cual se propuso un proyecto de navidad, crear su propio lenguaje de programación, todo esto debido a las deficiencias mostradas por otros lenguajes de programación.\n",
    "El tenía unos principios bastantes simples, en primer lugar, quería que fuera fácil de leer, segundo lugar debía permitir a los usuarios crear sus propios paquetes de módulos de codificación para fines especiales, y en tercer lugar quería que fuera un nombre corto y único, por lo cual se decide llamarlo Python, en honor a un grupo de comedia británico llamado Monthy Python.\n",
    "30 años después de su invento en aquella Navidad que inicio como proyecto, Guido Van Rossum dice que el no se propuso crear un lenguaje destinado al consumo masivo. Ya que la tasa de consultas se ha triplicado desde el 2010, mientras que las consultados de otros lenguajes de programación han sido bastantes decrecientes.\n",
    "La popularidad del lenguaje ha crecido demasiado, y no solo entre los desarrolladores profesionales, de los cuales el 40% de ellos lo usa.\n",
    "Codecademy un sitio web que ha enseñado a 45 millones de principiantes a usar varios idiomas de programación dice que por mucho el mayor aumento en la demanda proviene de aquellos que desean aprender Python\n",
    "Gracias a esto, la decodificación esta al alcance de la mano de aquellos que una vez se sintieron desconcertados por el sujeto.\n"
   ]
  },
  {
   "cell_type": "markdown",
   "metadata": {},
   "source": [
    "# Python se está convirtiendo en el lenguaje de codificación más popular del mundo\n",
    "## “Ciertamente no decidí crear un lenguaje destinado al consumo masivo”.  (Guido Van Rossum)\n",
    "Casi tres décadas después de su invento Python a superado a todos sus rivales y ha llevado la codificación a personas las cuales se sentían desconcertados por ello.\n",
    "El numero de consultas se ha triplicado desde el 2010, mientras los otros lenguajes de programación importantes han sido planos o en disminución.\n",
    "Las ventajas del lenguaje de programación son dos, la simplicidad y la flexibilidad que maneja. Hace que sea fácil de aprender, leer y compartir.\n",
    "Se han subido 145,000 paquetes de software personalizados a un repositorio en línea. Los cuales cubren todo en general desde desarrollos de juegos hasta la astronomía, y se pueden instalar en cuestión de segundos.\n",
    "Con una gran base de usuarios los cuales siguen creciendo de gran manera y gama de capacidades, Python puede estar destinado a convertirse en la lengua franca de codificación, dejando inservibles a todos los demás competidores.\n",
    "Según el científico en jefe de software de IBM, el cual compara los lenguajes de programación como imperios. Dice que Python no remplazara ha C y C++, las cuales son opciones de un nivel inferior, también explica que no hará desaparecer a Java o JavaScript.\n",
    "Ya ha habido lenguajes que fueron muy populares en el pasado, y los cuales se han desplomado.\n",
    "Como dicen, ningún imperio, independientemente de su poder, puede durar para siempre.\n",
    "\n"
   ]
  },
  {
   "cell_type": "code",
   "execution_count": null,
   "metadata": {},
   "outputs": [],
   "source": []
  }
 ],
 "metadata": {
  "kernelspec": {
   "display_name": "Python 3",
   "language": "python",
   "name": "python3"
  },
  "language_info": {
   "codemirror_mode": {
    "name": "ipython",
    "version": 3
   },
   "file_extension": ".py",
   "mimetype": "text/x-python",
   "name": "python",
   "nbconvert_exporter": "python",
   "pygments_lexer": "ipython3",
   "version": "3.7.3"
  }
 },
 "nbformat": 4,
 "nbformat_minor": 2
}
